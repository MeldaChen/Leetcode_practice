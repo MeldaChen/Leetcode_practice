{
  "nbformat": 4,
  "nbformat_minor": 0,
  "metadata": {
    "colab": {
      "provenance": [],
      "authorship_tag": "ABX9TyPB9AL/KJhJVGO/FW5hAIEL",
      "include_colab_link": true
    },
    "kernelspec": {
      "name": "python3",
      "display_name": "Python 3"
    },
    "language_info": {
      "name": "python"
    }
  },
  "cells": [
    {
      "cell_type": "markdown",
      "metadata": {
        "id": "view-in-github",
        "colab_type": "text"
      },
      "source": [
        "<a href=\"https://colab.research.google.com/github/MeldaChen/Leetcode_practice/blob/main/leetcode0020%E6%9C%89%E6%95%88%E7%9A%84%E6%8B%AC%E8%99%9F.ipynb\" target=\"_parent\"><img src=\"https://colab.research.google.com/assets/colab-badge.svg\" alt=\"Open In Colab\"/></a>"
      ]
    },
    {
      "cell_type": "code",
      "source": [
        "# 測不出((是錯的\n",
        "s = \"()[]{}\"\n",
        "\n",
        "s_number = s.replace(\"(\", \"1\")\n",
        "s_number = s_number.replace(\")\", \"1\")\n",
        "s_number = s_number.replace(\"[\", \"2\")\n",
        "s_number = s_number.replace(\"]\", \"2\")\n",
        "s_number = s_number.replace(\"{\", \"3\")\n",
        "s_number = s_number.replace(\"}\", \"3\")\n",
        "print(s_number)\n",
        "\n",
        "for i in range(0, (len(s_number)-1), 2):\n",
        "  if (int(s_number[i]) + int(s_number[i +1])) == 2 or (int(s_number[i]) + int(s_number[i +1])) == 4 or (int(s_number[i]) + int(s_number[i +1])) == 6:\n",
        "    ans = \"true\"\n",
        "  # elif (int(s_number[i]) + int(s_number[i +1])) == 4:\n",
        "  #   ans = \"true\"\n",
        "  # elif (int(s_number[i]) + int(s_number[i +1])) == 6:\n",
        "  #   ans = \"true\"\n",
        "  else:\n",
        "    ans = \"false\"\n",
        "print(ans)\n",
        "\n"
      ],
      "metadata": {
        "id": "H_zSZODlp01i",
        "colab": {
          "base_uri": "https://localhost:8080/"
        },
        "outputId": "7fa18655-7b46-4775-ad4b-0a4805e8ca72"
      },
      "execution_count": 39,
      "outputs": [
        {
          "output_type": "stream",
          "name": "stdout",
          "text": [
            "112233\n",
            "true\n"
          ]
        }
      ]
    },
    {
      "cell_type": "code",
      "source": [
        "#應該要測出true\n",
        "s = \"{[]}\"\n",
        "def isValid():\n",
        "  s_number = s.replace(\"(\", \"1\")\n",
        "  s_number = s_number.replace(\")\", \"1\")\n",
        "  s_number = s_number.replace(\"[\", \"2\")\n",
        "  s_number = s_number.replace(\"]\", \"2\")\n",
        "  s_number = s_number.replace(\"{\", \"3\")\n",
        "  s_number = s_number.replace(\"}\", \"3\")\n",
        "\n",
        "  for i in range(0, (len(s_number)-1), 2):\n",
        "    if (int(s_number[i]) + int(s_number[i +1])) == 2 or (int(s_number[i]) + int(s_number[i +1])) == 4 or (int(s_number[i]) + int(s_number[i +1])) == 6:\n",
        "      return True\n",
        "    else:\n",
        "      return False\n",
        "\n",
        "isValid()"
      ],
      "metadata": {
        "colab": {
          "base_uri": "https://localhost:8080/"
        },
        "id": "ZOL5bGhLQCvU",
        "outputId": "84376c7b-afb8-4a0e-dbbe-c623fe14ab1c"
      },
      "execution_count": 22,
      "outputs": [
        {
          "output_type": "execute_result",
          "data": {
            "text/plain": [
              "False"
            ]
          },
          "metadata": {},
          "execution_count": 22
        }
      ]
    },
    {
      "cell_type": "code",
      "source": [
        "# 解法1\n",
        "s = \"(([]){})\"\n",
        "def isValid():\n",
        "  s1 = s\n",
        "  for i in range(1, len(s1)):\n",
        "    s1 = s1.replace(\"()\", \"\")\n",
        "    s1 = s1.replace(\"[]\", \"\")\n",
        "    s1 = s1.replace(\"{}\", \"\")\n",
        "    if s1 == \"\":\n",
        "      break\n",
        "    else:\n",
        "      continue\n",
        "  # print(s1)\n",
        "  if s1 =='':\n",
        "    return True\n",
        "  else:\n",
        "    return False\n",
        "isValid()"
      ],
      "metadata": {
        "colab": {
          "base_uri": "https://localhost:8080/"
        },
        "id": "M6rC7E6cV40K",
        "outputId": "6777ec87-b756-4bdb-c523-78c52b013cfd"
      },
      "execution_count": 21,
      "outputs": [
        {
          "output_type": "execute_result",
          "data": {
            "text/plain": [
              "True"
            ]
          },
          "metadata": {},
          "execution_count": 21
        }
      ]
    }
  ]
}