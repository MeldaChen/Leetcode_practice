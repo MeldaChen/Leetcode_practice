{
  "nbformat": 4,
  "nbformat_minor": 0,
  "metadata": {
    "colab": {
      "provenance": [],
      "authorship_tag": "ABX9TyNfmJ0qQspgEp3RYM9chWQ6",
      "include_colab_link": true
    },
    "kernelspec": {
      "name": "python3",
      "display_name": "Python 3"
    },
    "language_info": {
      "name": "python"
    }
  },
  "cells": [
    {
      "cell_type": "markdown",
      "metadata": {
        "id": "view-in-github",
        "colab_type": "text"
      },
      "source": [
        "<a href=\"https://colab.research.google.com/github/MeldaChen/Leetcode_practice/blob/main/leetcode0009%E5%9B%9E%E6%96%87.ipynb\" target=\"_parent\"><img src=\"https://colab.research.google.com/assets/colab-badge.svg\" alt=\"Open In Colab\"/></a>"
      ]
    },
    {
      "cell_type": "code",
      "source": [
        "# 此版本遇到數字相同會輸出[0,0] 結果，無法解題\n",
        "#import random\n",
        "#nums =  [3, 3, 5]\n",
        "#target = 6\n",
        "#[x, y] = (random.sample(nums, k = 2))\n",
        "#print(nums.index(x))\n",
        "#print(nums.index(y))\n",
        "#\n",
        "#nums.index(x) < nums.index(y)\n",
        "#if target == (x + y) :\n",
        "#  a = nums.index(x)\n",
        "#  b = nums.index(y)\n",
        "#  a < b\n",
        "#  ans = [a, b]\n",
        "#  ans.sort()\n",
        "#  print(list(ans))"
      ],
      "metadata": {
        "id": "GUQgRJC1R5LL"
      },
      "execution_count": null,
      "outputs": []
    },
    {
      "cell_type": "code",
      "source": [
        "x = 1234321\n",
        "\n",
        "#def isPalindrome():\n",
        "\n",
        "strx = str(x)\n",
        "\n",
        "#print(str(x),len(strx))\n",
        "\n",
        "remainder = len(strx) % 2\n",
        "\n",
        "last_number = len(strx) - 1\n",
        "\n",
        "#print(last_number)\n",
        "\n",
        "if x < 0 :\n",
        "  print(\"false\")\n",
        "\n",
        "if remainder == 0:\n",
        "  half_len = int(len(strx) / 2)\n",
        "  #print(half_len)\n",
        "  for i in range(0, half_len):\n",
        "    n = last_number - i\n",
        "    if strx[i] != strx[n]:\n",
        "      #print(\"false\")\n",
        "      bool_show = 1\n",
        "      break\n",
        "      \n",
        "    else:\n",
        "      bool_show = 0\n",
        "    \n",
        "  if bool_show > 0:\n",
        "     print(\"false\")\n",
        "  else:\n",
        "    print(\"true\")\n",
        "    #print(\"true\")\n",
        "\n",
        "if remainder == 1:\n",
        "  half_len = int((len(strx)-1) / 2)\n",
        "  #print(half_len)\n",
        "  for i in range(0, half_len):\n",
        "    n = last_number - i\n",
        "    if strx[i] != strx[n]:\n",
        "      #print(\"false\")\n",
        "      bool_show = 1\n",
        "      break\n",
        "      \n",
        "    else:\n",
        "      bool_show = 0\n",
        "    \n",
        "  if bool_show > 0:\n",
        "     print(\"false\")\n",
        "  else:\n",
        "    print(\"true\")\n",
        "    #print(\"true\") \n",
        "\n"
      ],
      "metadata": {
        "colab": {
          "base_uri": "https://localhost:8080/"
        },
        "id": "utb9-W6NbMf2",
        "outputId": "69e24fad-06d9-49d5-b00d-1db8a7074474"
      },
      "execution_count": null,
      "outputs": [
        {
          "output_type": "stream",
          "name": "stdout",
          "text": [
            "true\n"
          ]
        }
      ]
    },
    {
      "cell_type": "code",
      "source": [
        "# 解法限制以布林值輸出，這裡用的是字串\n",
        "x = -121\n",
        "\n",
        "def isPalindrome():\n",
        "\n",
        "  strx = str(x)\n",
        "\n",
        "  remainder = len(strx) % 2\n",
        "\n",
        "  last_number = len(strx) - 1\n",
        "\n",
        "  a = 'true'\n",
        "  b = 'false'\n",
        "\n",
        "  if x < 0 :\n",
        "    return(b)\n",
        "\n",
        "\n",
        "  if remainder == 0:\n",
        "    half_len = int(len(strx) / 2)\n",
        "\n",
        "    for i in range(0, half_len):\n",
        "      n = last_number - i\n",
        "      if strx[i] != strx[n]:\n",
        "\n",
        "        bool_show = 1\n",
        "        break\n",
        "        \n",
        "      else:\n",
        "        bool_show = 0\n",
        "      \n",
        "    if bool_show > 0:\n",
        "      return(b)\n",
        "    else:\n",
        "      return(a)\n",
        " \n",
        "\n",
        "  if remainder == 1:\n",
        "    half_len = int((len(strx)-1) / 2)\n",
        "\n",
        "    for i in range(0, half_len):\n",
        "      n = last_number - i\n",
        "      if strx[i] != strx[n]:\n",
        " \n",
        "        bool_show = 1\n",
        "        break\n",
        "        \n",
        "      else:\n",
        "        bool_show = 0\n",
        "      \n",
        "    if bool_show > 0:\n",
        "      return(b)\n",
        "    else:\n",
        "      return(a)\n",
        "     \n",
        "isPalindrome()"
      ],
      "metadata": {
        "colab": {
          "base_uri": "https://localhost:8080/",
          "height": 36
        },
        "id": "qgQSJhe1SwPI",
        "outputId": "230da683-6cf7-4bfc-fd08-c939dbcd9d45"
      },
      "execution_count": null,
      "outputs": [
        {
          "output_type": "execute_result",
          "data": {
            "text/plain": [
              "'false'"
            ],
            "application/vnd.google.colaboratory.intrinsic+json": {
              "type": "string"
            }
          },
          "metadata": {},
          "execution_count": 27
        }
      ]
    },
    {
      "cell_type": "code",
      "source": [
        "# 解法 1\n",
        "x = 1000021\n",
        "def isPalindrome():\n",
        "\n",
        "  strx = str(x)\n",
        "\n",
        "  remainder = len(strx) % 2\n",
        "\n",
        "  last_number = len(strx) - 1\n",
        "\n",
        "  if x < 0 :\n",
        "    return False\n",
        "\n",
        "  if x >= 0 and x < 10:\n",
        "    return True\n",
        "\n",
        "\n",
        "  if remainder == 0:\n",
        "    half_len = int(len(strx) / 2)\n",
        "\n",
        "    for i in range(0, half_len):\n",
        "      n = last_number - i\n",
        "      if strx[i] != strx[n]:\n",
        "\n",
        "        bool_show = 1\n",
        "        break\n",
        "        \n",
        "      else:\n",
        "        bool_show = 0\n",
        "      \n",
        "    if bool_show > 0:\n",
        "      return False\n",
        "    else:\n",
        "      return True\n",
        " \n",
        "\n",
        "  if remainder == 1:\n",
        "    half_len = int((len(strx)-1) / 2)\n",
        "\n",
        "    for i in range(0, half_len):\n",
        "      n = last_number - i\n",
        "      if strx[i] != strx[n]:\n",
        " \n",
        "        bool_shown = 1\n",
        "        break\n",
        "        \n",
        "      else:\n",
        "        bool_shown = 0\n",
        "      \n",
        "    if bool_shown > 0:\n",
        "      return False\n",
        "    else:\n",
        "      return True\n",
        "     \n",
        "isPalindrome()"
      ],
      "metadata": {
        "id": "O7dRA_Poo2al",
        "colab": {
          "base_uri": "https://localhost:8080/"
        },
        "outputId": "aadac306-0e59-4ce8-e019-ae888c367b2b"
      },
      "execution_count": null,
      "outputs": [
        {
          "output_type": "execute_result",
          "data": {
            "text/plain": [
              "False"
            ]
          },
          "metadata": {},
          "execution_count": 41
        }
      ]
    },
    {
      "cell_type": "code",
      "source": [
        "# 解法2\n",
        "x = 124521\n",
        "def isPalindrome():\n",
        "\n",
        "  strx = str(x)\n",
        "\n",
        "  remainder = len(strx) % 2\n",
        "\n",
        "  last_number = len(strx) - 1\n",
        "\n",
        "  if x < 0 :\n",
        "    return False\n",
        "\n",
        "  if x >= 0 and x < 10:\n",
        "    return True\n",
        "\n",
        "  if remainder == 0:\n",
        "    half_len = int(len(strx) / 2)\n",
        "    reversed_string_partB = ''.join(reversed(strx[half_len:]))\n",
        "    string_partA = strx[:half_len]\n",
        "\n",
        "    if string_partA == reversed_string_partB[:]:\n",
        "      return True\n",
        "    else:\n",
        "      return False\n",
        "\n",
        " \n",
        "\n",
        "  if remainder == 1:\n",
        "    half_len = int((len(strx)-1) / 2)\n",
        "    reversed_string_partB = ''.join(reversed(strx[(half_len+1):]))\n",
        "    string_partA = strx[:half_len]\n",
        "    if string_partA == reversed_string_partB[:]:\n",
        "      return True\n",
        "    else:\n",
        "      return False\n",
        "     \n",
        "isPalindrome()"
      ],
      "metadata": {
        "colab": {
          "base_uri": "https://localhost:8080/"
        },
        "id": "s76M24xTFfkn",
        "outputId": "03fb0106-c196-4355-fb80-94f4de71d11b"
      },
      "execution_count": null,
      "outputs": [
        {
          "output_type": "execute_result",
          "data": {
            "text/plain": [
              "False"
            ]
          },
          "metadata": {},
          "execution_count": 19
        }
      ]
    }
  ]
}