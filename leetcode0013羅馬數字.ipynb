{
  "nbformat": 4,
  "nbformat_minor": 0,
  "metadata": {
    "colab": {
      "provenance": [],
      "authorship_tag": "ABX9TyOs6VCCTBOE2giXfihoP/nL",
      "include_colab_link": true
    },
    "kernelspec": {
      "name": "python3",
      "display_name": "Python 3"
    },
    "language_info": {
      "name": "python"
    }
  },
  "cells": [
    {
      "cell_type": "markdown",
      "metadata": {
        "id": "view-in-github",
        "colab_type": "text"
      },
      "source": [
        "<a href=\"https://colab.research.google.com/github/MeldaChen/Leetcode_practice/blob/main/leetcode0013%E7%BE%85%E9%A6%AC%E6%95%B8%E5%AD%97.ipynb\" target=\"_parent\"><img src=\"https://colab.research.google.com/assets/colab-badge.svg\" alt=\"Open In Colab\"/></a>"
      ]
    },
    {
      "cell_type": "code",
      "source": [
        "#解法 1\n",
        "\n",
        "s = \"MCMXCIV\"\n",
        "times_I = s.count('I')\n",
        "times_V = s.count('V')\n",
        "times_X = s.count('X')\n",
        "times_L = s.count('L')\n",
        "times_C = s.count('C')\n",
        "times_D = s.count('D')\n",
        "times_M = s.count('M')\n",
        "number1 = 0\n",
        "number2 = 0\n",
        "number3 = 0\n",
        "number4 = 0\n",
        "number5 = 0\n",
        "number6 = 0\n",
        "if 'IV' in s:\n",
        "  number1 = 4\n",
        "  times_I = times_I - 1\n",
        "  times_V = times_V - 1\n",
        "if 'IX' in s:\n",
        "  number2 = 9\n",
        "  times_I = times_I - 1\n",
        "  times_X = times_X - 1\n",
        "if 'XL' in s:\n",
        "  number3 = 40\n",
        "  times_X = times_X - 1\n",
        "  times_L = times_L - 1\n",
        "if 'XC' in s:\n",
        "  number4 = 90\n",
        "  times_X = times_X - 1\n",
        "  times_C = times_C - 1\n",
        "if 'CD' in s:\n",
        "  number5 = 400\n",
        "  times_C = times_C - 1\n",
        "  times_D = times_D - 1\n",
        "if 'CM' in s:\n",
        "  number6 = 900\n",
        "  times_C = times_C - 1\n",
        "  times_M = times_M - 1\n",
        "print(  times_I + 5 * times_V + 10 * times_X + 50 * times_L + 100 * times_C + 500 * times_D + 1000 * times_M + number1 + number2 + number3 + number4 + number5 + number6)"
      ],
      "metadata": {
        "colab": {
          "base_uri": "https://localhost:8080/"
        },
        "id": "kNLtQQsThW1u",
        "outputId": "fe25b098-f119-4935-9e1b-a916fe2b3532"
      },
      "execution_count": null,
      "outputs": [
        {
          "output_type": "stream",
          "name": "stdout",
          "text": [
            "1994\n"
          ]
        }
      ]
    },
    {
      "cell_type": "code",
      "source": [
        "#解法 2\n",
        "\n",
        "s = \"MCMXCIV\"\n",
        "s_1 = s.replace('IV','IIII')\n",
        "s_2 = s_1.replace('IX','VIIII')\n",
        "s_3 = s_2.replace('XL','XXXX')\n",
        "s_4 = s_3.replace('XC','LXXXX')\n",
        "s_5 = s_4.replace('CD','CCCC')\n",
        "s_6 = s_5.replace('CM','DCCCC')\n",
        "\n",
        "times_I = s_6.count('I')\n",
        "times_V = s_6.count('V')\n",
        "times_X = s_6.count('X')\n",
        "times_L = s_6.count('L')\n",
        "times_C = s_6.count('C')\n",
        "times_D = s_6.count('D')\n",
        "times_M = s_6.count('M')\n",
        "\n",
        "\n",
        "print(  times_I + 5 * times_V + 10 * times_X + 50 * times_L + 100 * times_C + 500 * times_D + 1000 * times_M )"
      ],
      "metadata": {
        "id": "H_zSZODlp01i",
        "colab": {
          "base_uri": "https://localhost:8080/"
        },
        "outputId": "d499f000-a8a6-4012-8a44-0e3f96574c98"
      },
      "execution_count": 27,
      "outputs": [
        {
          "output_type": "stream",
          "name": "stdout",
          "text": [
            "1994\n"
          ]
        }
      ]
    }
  ]
}